{
    "metadata": {
        "kernelspec": {
            "name": "SQL",
            "display_name": "SQL",
            "language": "sql"
        },
        "language_info": {
            "name": "sql",
            "version": ""
        }
    },
    "nbformat_minor": 2,
    "nbformat": 4,
    "cells": [
        {
            "cell_type": "code",
            "source": [
                "-- Feladat 1. Moodle-ben elerheto elveszett az itteni fileban a megoldasom"
            ],
            "metadata": {
                "azdata_cell_guid": "0e99210f-7f49-42f5-8c0f-9eb919adbb60",
                "language": "sql",
                "tags": []
            },
            "outputs": [
                {
                    "output_type": "display_data",
                    "data": {
                        "text/html": "(1 row affected)"
                    },
                    "metadata": {}
                },
                {
                    "output_type": "display_data",
                    "data": {
                        "text/html": "Total execution time: 00:00:00.024"
                    },
                    "metadata": {}
                },
                {
                    "output_type": "execute_result",
                    "metadata": {},
                    "execution_count": 178,
                    "data": {
                        "application/vnd.dataresource+json": {
                            "schema": {
                                "fields": [
                                    {
                                        "name": "Foglalás szám"
                                    },
                                    {
                                        "name": "Szállás neve"
                                    }
                                ]
                            },
                            "data": [
                                {
                                    "Foglalás szám": "52",
                                    "Szállás neve": "Családi Ház"
                                }
                            ]
                        },
                        "text/html": [
                            "<table>",
                            "<tr><th>Foglalás szám</th><th>Szállás neve</th></tr>",
                            "<tr><td>52</td><td>Családi Ház</td></tr>",
                            "</table>"
                        ]
                    }
                }
            ],
            "execution_count": 178
        },
        {
            "cell_type": "code",
            "source": [
                "-- Feladat 2. Nincs elkeszitve"
            ],
            "metadata": {
                "azdata_cell_guid": "cbdd6ed5-caf0-403d-ab43-dab382d43921",
                "language": "sql"
            },
            "outputs": [
                {
                    "output_type": "display_data",
                    "data": {
                        "text/html": "(1 row affected)"
                    },
                    "metadata": {}
                },
                {
                    "output_type": "display_data",
                    "data": {
                        "text/html": "Total execution time: 00:00:00.004"
                    },
                    "metadata": {}
                },
                {
                    "output_type": "execute_result",
                    "metadata": {},
                    "execution_count": 158,
                    "data": {
                        "application/vnd.dataresource+json": {
                            "schema": {
                                "fields": [
                                    {
                                        "name": "SZALLAS_ID"
                                    }
                                ]
                            },
                            "data": [
                                {
                                    "SZALLAS_ID": "2"
                                }
                            ]
                        },
                        "text/html": [
                            "<table>",
                            "<tr><th>SZALLAS_ID</th></tr>",
                            "<tr><td>2</td></tr>",
                            "</table>"
                        ]
                    }
                }
            ],
            "execution_count": 158
        },
        {
            "cell_type": "code",
            "source": [
                "-- Feladat 3. Csak a git-ben elerheto\r\n",
                "\r\n",
                "SELECT \r\n",
                "SUM(f.FELNOTT_SZAM + f.GYERMEK_SZAM) as \"Foglalás szám\",\r\n",
                "(\r\n",
                "    SELECT SZALLAS_NEV FROM Szallashely as sa3 WHERE sa3.SZALLAS_ID = sa.SZALLAS_ID\r\n",
                ") as 'Szállás neve'\r\n",
                "FROM Foglalas as f \r\n",
                "LEFT JOIN Szoba as s on f.SZOBA_FK = s.SZOBA_ID\r\n",
                "LEFT JOIN Szallashely as sa on s.SZALLAS_FK = sa.SZALLAS_ID\r\n",
                "WHERE sa.SZALLAS_ID IN (\r\n",
                "   SELECT TOP 1\r\n",
                "    sa2.SZALLAS_ID\r\n",
                "    FROM Foglalas as f2 \r\n",
                "    LEFT JOIN Szoba as s2 on f2.SZOBA_FK = s2.SZOBA_ID\r\n",
                "    LEFT JOIN Szallashely as sa2 on s2.SZALLAS_FK = sa2.SZALLAS_ID\r\n",
                "    GROUP BY sa2.SZALLAS_ID\r\n",
                "    ORDER BY SUM(f2.FELNOTT_SZAM + f2.GYERMEK_SZAM) ASC\r\n",
                ")\r\n",
                "GROUP BY sa.SZALLAS_ID\r\n",
                "ORDER BY SUM(f.FELNOTT_SZAM + f.GYERMEK_SZAM) ASC\r\n",
                ""
            ],
            "metadata": {
                "azdata_cell_guid": "1305187d-e616-4976-8a46-13d03e182292",
                "language": "sql"
            },
            "outputs": [
                {
                    "output_type": "error",
                    "evalue": "Msg 102, Level 15, State 1, Line 1\r\nIncorrect syntax near '1'.",
                    "ename": "",
                    "traceback": []
                },
                {
                    "output_type": "display_data",
                    "data": {
                        "text/html": "Total execution time: 00:00:00.001"
                    },
                    "metadata": {}
                }
            ],
            "execution_count": 141
        }
    ]
}